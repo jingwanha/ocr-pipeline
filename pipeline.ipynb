{
 "cells": [
  {
   "cell_type": "markdown",
   "metadata": {
    "tags": []
   },
   "source": [
    "## TODO\n",
    "1) General OCR + 공통기능\n",
    " - ~~Craft 추가~~\n",
    " - ~~util 함수 추가~~\n",
    " - 재활용 가능한 모듈 구현 (preprocessing, pipeline evaluation)\n",
    " - Serving (API 만들기)\n",
    " - hard example에 대한 인식성능 향상"
   ]
  },
  {
   "cell_type": "markdown",
   "metadata": {
    "tags": []
   },
   "source": [
    "# OCR PIPELINE"
   ]
  },
  {
   "cell_type": "code",
   "execution_count": null,
   "metadata": {},
   "outputs": [],
   "source": [
    "from detector import Detector\n",
    "from recognizer import Recognizer\n",
    "\n",
    "from utility import draw_bbox\n",
    "\n",
    "import matplotlib.pyplot as plt\n",
    "import cv2\n",
    "import numpy as np\n",
    "\n",
    "from glob import glob\n",
    "import string"
   ]
  },
  {
   "cell_type": "markdown",
   "metadata": {
    "tags": []
   },
   "source": [
    "## Pipeline Config 정의"
   ]
  },
  {
   "cell_type": "code",
   "execution_count": null,
   "metadata": {},
   "outputs": [],
   "source": [
    "pipeline_config = {\n",
    "    'detector' : {\n",
    "        'name' : 'craft', # ['pan', 'craft'],\n",
    "        'model_path' : './detector/CRAFT/craft_ic15_20k.pth', # ['./detector/CRAFT/craft_ic15_20k.pth', './detector/PAN/PANNet_latest.pth']\n",
    "        \n",
    "        'craft_options' : {\n",
    "            'canvas_size' : 1280,\n",
    "            'mag_ratio' : 1.5,\n",
    "            \"text_threshold\" : 0.7,\n",
    "            \"link_threshold\" : 0.4,\n",
    "            \"low_text\" : 0.4\n",
    "        }\n",
    "    },\n",
    "    \n",
    "    'recognizer' : {\n",
    "        \n",
    "        \"model\":{\n",
    "        \"transform\": \"TPS\",\n",
    "        \"extraction\": \"ResNet\",\n",
    "        \"sequence\": \"BiLSTM\", # [None | BiLSTM | Transformer]\n",
    "        \"prediction\": \"Attn\", # [CTC | Attn | Transformer]\n",
    "        \"input_channel\": 1,\n",
    "        \"output_channel\": 512,\n",
    "        \"hidden_size\": 256,\n",
    "        \"saved_model\" : './recognizer/pretrained_model/TPS-ResNet-BiLSTM-Attn-case-sensitive.pth'\n",
    "        },\n",
    "        \n",
    "        \"transform\":{\n",
    "            \"num_fiducial\": 20,\n",
    "        },\n",
    "        \n",
    "        \"training\":{\n",
    "            \"num_class\": 96, # 계산해서 할당 됨 (CTC의 경우 Attn, Transformer보다 class가 1개 더 적음), case-sensitive model일 경우 96으로 변경\n",
    "            \"batch_max_length\" : 25,\n",
    "        },\n",
    "        \n",
    "        \"dataset\":{\n",
    "#             \"characters\" : '0123456789abcdefghijklmnopqrstuvwxyz', # 데이터 셋 로드 후 초기화\n",
    "            \"characters\" : string.printable[:-6], # case-sensitive model일 경우\n",
    "            \"imgH\": 32,\n",
    "            \"imgW\": 100\n",
    "        }\n",
    "    }\n",
    "}\n",
    "\n",
    "# number of class 할당 (CTC prediction과 Attn의 prediction의 경우 class가 다름)\n",
    "n_characters = len(pipeline_config['recognizer']['dataset']['characters'])+1\n",
    "pipeline_config['recognizer']['training']['num_class'] = n_characters if pipeline_config['recognizer']['model']['prediction'] == 'CTC' else n_characters+1"
   ]
  },
  {
   "cell_type": "code",
   "execution_count": null,
   "metadata": {},
   "outputs": [],
   "source": [
    "# Text Detetction Model Load\n",
    "gpu_id = None\n",
    "print (\"Load Text Detection Model\")\n",
    "text_detector = Detector(pipeline_config['detector'],gpu_id=gpu_id)"
   ]
  },
  {
   "cell_type": "code",
   "execution_count": null,
   "metadata": {},
   "outputs": [],
   "source": [
    "# Text Recognition Model Load\n",
    "# Text recognizer는 gpu에서만 동작\n",
    "gpu_id = 3\n",
    "print(\"Load Text Recognition Model\")\n",
    "text_recognizer = Recognizer(pipeline_config['recognizer'],gpu_id= gpu_id)"
   ]
  },
  {
   "cell_type": "markdown",
   "metadata": {
    "tags": []
   },
   "source": [
    "## Image Test"
   ]
  },
  {
   "cell_type": "code",
   "execution_count": null,
   "metadata": {},
   "outputs": [],
   "source": [
    "# image load\n",
    "img_path ='./samples/sample_2.jpg'\n",
    "img = cv2.cvtColor(cv2.imread(img_path,cv2.IMREAD_COLOR), cv2.COLOR_BGR2RGB)"
   ]
  },
  {
   "cell_type": "code",
   "execution_count": null,
   "metadata": {
    "tags": []
   },
   "outputs": [],
   "source": [
    "# detection show\n",
    "text_images = []\n",
    "\n",
    "# text detection prediction\n",
    "if pipeline_config['detector']['name'] == 'pan':\n",
    "    preds, boxes_list, _ = text_detector.detector.predict(img)\n",
    "    \n",
    "elif pipeline_config['detector']['name'] == 'craft':\n",
    "    boxes_list, ret_score_text, _ = text_detector.detector.prediction(img)\n",
    "    \n",
    "text_images = []\n",
    "for box in boxes_list:\n",
    "    y_min,y_max = int(min(box[:,1])),int(max(box[:,1]))\n",
    "    x_min,x_max = int(min(box[:,0])),int(max(box[:,0]))\n",
    "    \n",
    "    # text recognition 모델의 경우 gray-scale image를 입력으로 받음\n",
    "    text_images.append(cv2.cvtColor(img[y_min:y_max,x_min:x_max,:],cv2.COLOR_RGB2GRAY))\n",
    "\n",
    "img_result = draw_bbox(img, boxes_list)\n",
    "img_result = np.expand_dims(img_result, axis=0)[0,:,:]\n",
    "\n",
    "# text recognition prediction\n",
    "predictions = text_recognizer.prediction(text_images)"
   ]
  },
  {
   "cell_type": "code",
   "execution_count": null,
   "metadata": {},
   "outputs": [],
   "source": [
    "# Result Visualization\n",
    "\n",
    "# text detection 결과\n",
    "fig = plt.figure()\n",
    "plt.imshow(img_result)\n",
    "plt.show()\n",
    "\n",
    "# text recognition 결과\n",
    "for detected_area, text in zip(predictions[0], predictions[1]):\n",
    "    plt.figure()\n",
    "    plt.title(text)\n",
    "    plt.imshow(detected_area,cmap='gray')\n",
    "    plt.show()"
   ]
  },
  {
   "cell_type": "code",
   "execution_count": null,
   "metadata": {},
   "outputs": [],
   "source": []
  }
 ],
 "metadata": {
  "kernelspec": {
   "display_name": "text_detection",
   "language": "python",
   "name": "text_detection"
  },
  "kubeflow_notebook": {
   "autosnapshot": false,
   "docker_image": "haiqv/anaconda3-pytorch-1.3.1-notebook-gpu:1.0.0",
   "experiment": {
    "id": "",
    "name": ""
   },
   "experiment_name": "",
   "katib_metadata": {
    "algorithm": {
     "algorithmName": "grid"
    },
    "maxFailedTrialCount": 3,
    "maxTrialCount": 12,
    "objective": {
     "objectiveMetricName": "",
     "type": "minimize"
    },
    "parallelTrialCount": 3,
    "parameters": []
   },
   "katib_run": false,
   "pipeline_description": "",
   "pipeline_name": "",
   "snapshot_volumes": false,
   "steps_defaults": [],
   "volumes": []
  },
  "language_info": {
   "codemirror_mode": {
    "name": "ipython",
    "version": 3
   },
   "file_extension": ".py",
   "mimetype": "text/x-python",
   "name": "python",
   "nbconvert_exporter": "python",
   "pygments_lexer": "ipython3",
   "version": "3.6.12"
  }
 },
 "nbformat": 4,
 "nbformat_minor": 4
}
